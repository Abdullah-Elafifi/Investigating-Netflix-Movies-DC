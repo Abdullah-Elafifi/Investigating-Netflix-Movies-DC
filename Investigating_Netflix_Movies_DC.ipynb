{
  "nbformat": 4,
  "nbformat_minor": 0,
  "metadata": {
    "colab": {
      "provenance": [],
      "authorship_tag": "ABX9TyPLj76syPcnwo7ek1sGcEAE",
      "include_colab_link": true
    },
    "kernelspec": {
      "name": "python3",
      "display_name": "Python 3"
    },
    "language_info": {
      "name": "python"
    }
  },
  "cells": [
    {
      "cell_type": "markdown",
      "metadata": {
        "id": "view-in-github",
        "colab_type": "text"
      },
      "source": [
        "<a href=\"https://colab.research.google.com/github/Abdullah-Elafifi/Investigating-Netflix-Movies-DC/blob/main/Investigating_Netflix_Movies_DC.ipynb\" target=\"_parent\"><img src=\"https://colab.research.google.com/assets/colab-badge.svg\" alt=\"Open In Colab\"/></a>"
      ]
    },
    {
      "cell_type": "code",
      "execution_count": 1,
      "metadata": {
        "id": "KJY7rQDtl36m"
      },
      "outputs": [],
      "source": [
        "# Importing pandas and matplotlib\n",
        "import pandas as pd\n",
        "import numpy as np\n",
        "import matplotlib.pyplot as plt"
      ]
    },
    {
      "cell_type": "code",
      "source": [
        "# Read in the Netflix CSV as a DataFrame\n",
        "netflix_df = pd.read_csv(\"netflix_data.csv\")\n",
        "print(netflix_df.head(10))"
      ],
      "metadata": {
        "colab": {
          "base_uri": "https://localhost:8080/"
        },
        "id": "TDNuGjuGmTOv",
        "outputId": "8b9d80e5-e04a-419a-ccf9-36b8540b3e16"
      },
      "execution_count": 2,
      "outputs": [
        {
          "output_type": "stream",
          "name": "stdout",
          "text": [
            "  show_id     type  title           director  \\\n",
            "0      s1  TV Show     3%                NaN   \n",
            "1      s2    Movie   7:19  Jorge Michel Grau   \n",
            "2      s3    Movie  23:59       Gilbert Chan   \n",
            "3      s4    Movie      9        Shane Acker   \n",
            "4      s5    Movie     21     Robert Luketic   \n",
            "5      s6  TV Show     46        Serdar Akar   \n",
            "6      s7    Movie    122    Yasir Al Yasiri   \n",
            "7      s8    Movie    187     Kevin Reynolds   \n",
            "8      s9    Movie    706      Shravan Kumar   \n",
            "9     s10    Movie   1920       Vikram Bhatt   \n",
            "\n",
            "                                                cast        country  \\\n",
            "0  João Miguel, Bianca Comparato, Michel Gomes, R...         Brazil   \n",
            "1  Demián Bichir, Héctor Bonilla, Oscar Serrano, ...         Mexico   \n",
            "2  Tedd Chan, Stella Chung, Henley Hii, Lawrence ...      Singapore   \n",
            "3  Elijah Wood, John C. Reilly, Jennifer Connelly...  United States   \n",
            "4  Jim Sturgess, Kevin Spacey, Kate Bosworth, Aar...  United States   \n",
            "5  Erdal Beşikçioğlu, Yasemin Allen, Melis Birkan...         Turkey   \n",
            "6  Amina Khalil, Ahmed Dawood, Tarek Lotfy, Ahmed...          Egypt   \n",
            "7  Samuel L. Jackson, John Heard, Kelly Rowan, Cl...  United States   \n",
            "8  Divya Dutta, Atul Kulkarni, Mohan Agashe, Anup...          India   \n",
            "9  Rajneesh Duggal, Adah Sharma, Indraneil Sengup...          India   \n",
            "\n",
            "          date_added  release_year  duration  \\\n",
            "0    August 14, 2020          2020         4   \n",
            "1  December 23, 2016          2016        93   \n",
            "2  December 20, 2018          2011        78   \n",
            "3  November 16, 2017          2009        80   \n",
            "4    January 1, 2020          2008       123   \n",
            "5       July 1, 2017          2016         1   \n",
            "6       June 1, 2020          2019        95   \n",
            "7   November 1, 2019          1997       119   \n",
            "8      April 1, 2019          2019       118   \n",
            "9  December 15, 2017          2008       143   \n",
            "\n",
            "                                         description             genre  \n",
            "0  In a future where the elite inhabit an island ...  International TV  \n",
            "1  After a devastating earthquake hits Mexico Cit...            Dramas  \n",
            "2  When an army recruit is found dead, his fellow...     Horror Movies  \n",
            "3  In a postapocalyptic world, rag-doll robots hi...            Action  \n",
            "4  A brilliant group of students become card-coun...            Dramas  \n",
            "5  A genetics professor experiments with a treatm...  International TV  \n",
            "6  After an awful accident, a couple admitted to ...     Horror Movies  \n",
            "7  After one of his high school students attacks ...            Dramas  \n",
            "8  When a doctor goes missing, his psychiatrist w...     Horror Movies  \n",
            "9  An architect and his wife move into a castle t...     Horror Movies  \n"
          ]
        }
      ]
    },
    {
      "cell_type": "code",
      "source": [
        "# Reading the coloumns data in the dataset\n",
        "print(netflix_df[\"duration\"])\n",
        "print(netflix_df[\"release_year\"])\n",
        "print(netflix_df[\"type\"])"
      ],
      "metadata": {
        "colab": {
          "base_uri": "https://localhost:8080/"
        },
        "id": "pdNYs3gWmU1m",
        "outputId": "91238181-ab36-4035-bfb4-90cd946407e0"
      },
      "execution_count": 5,
      "outputs": [
        {
          "output_type": "stream",
          "name": "stdout",
          "text": [
            "0         4\n",
            "1        93\n",
            "2        78\n",
            "3        80\n",
            "4       123\n",
            "       ... \n",
            "7782     99\n",
            "7783    111\n",
            "7784     44\n",
            "7785      1\n",
            "7786     90\n",
            "Name: duration, Length: 7787, dtype: int64\n",
            "0       2020\n",
            "1       2016\n",
            "2       2011\n",
            "3       2009\n",
            "4       2008\n",
            "        ... \n",
            "7782    2005\n",
            "7783    2015\n",
            "7784    2019\n",
            "7785    2019\n",
            "7786    2019\n",
            "Name: release_year, Length: 7787, dtype: int64\n",
            "0       TV Show\n",
            "1         Movie\n",
            "2         Movie\n",
            "3         Movie\n",
            "4         Movie\n",
            "         ...   \n",
            "7782      Movie\n",
            "7783      Movie\n",
            "7784      Movie\n",
            "7785    TV Show\n",
            "7786      Movie\n",
            "Name: type, Length: 7787, dtype: object\n"
          ]
        }
      ]
    },
    {
      "cell_type": "code",
      "source": [
        "Movdie_Duration_2 = np.logical_and(netflix_df[\"release_year\"] >= 1990, netflix_df[\"release_year\"] <= 1999)\n",
        "Movie_Type_1 =  netflix_df[\"type\"] == 'Movie'\n",
        "All_Conditions = np.logical_and(Movdie_Duration_2, Movie_Type_1)\n",
        "print(netflix_df[All_Conditions])"
      ],
      "metadata": {
        "colab": {
          "base_uri": "https://localhost:8080/"
        },
        "id": "SSwl0z37mXJY",
        "outputId": "9bb7dd1b-ddf3-4330-9ac8-d64151024f8a"
      },
      "execution_count": 6,
      "outputs": [
        {
          "output_type": "stream",
          "name": "stdout",
          "text": [
            "     show_id   type                            title            director  \\\n",
            "7         s8  Movie                              187      Kevin Reynolds   \n",
            "166     s167  Movie                A Dangerous Woman  Stephen Gyllenhaal   \n",
            "210     s211  Movie           A Night at the Roxbury    John Fortenberry   \n",
            "238     s239  Movie  A Thin Line Between Love & Hate     Martin Lawrence   \n",
            "273     s274  Movie                     Aashik Awara         Umesh Mehra   \n",
            "...      ...    ...                              ...                 ...   \n",
            "7535   s7536  Movie                      West Beirut        Ziad Doueiri   \n",
            "7570   s7571  Movie      What's Eating Gilbert Grape     Lasse Hallström   \n",
            "7623   s7624  Movie                   Wild Wild West    Barry Sonnenfeld   \n",
            "7681   s7682  Movie                       Wyatt Earp     Lawrence Kasdan   \n",
            "7694   s7695  Movie                      Yaar Gaddar         Umesh Mehra   \n",
            "\n",
            "                                                   cast        country  \\\n",
            "7     Samuel L. Jackson, John Heard, Kelly Rowan, Cl...  United States   \n",
            "166   Debra Winger, Barbara Hershey, Gabriel Byrne, ...  United States   \n",
            "210   Will Ferrell, Chris Kattan, Dan Hedaya, Molly ...  United States   \n",
            "238   Martin Lawrence, Lynn Whitfield, Regina King, ...  United States   \n",
            "273   Saif Ali Khan, Mamta Kulkarni, Mohnish Bahl, S...          India   \n",
            "...                                                 ...            ...   \n",
            "7535  Rami Doueiri, Mohamad Chamas, Rola Al Amin, Ca...         France   \n",
            "7570  Johnny Depp, Leonardo DiCaprio, Juliette Lewis...  United States   \n",
            "7623  Will Smith, Kevin Kline, Kenneth Branagh, Salm...  United States   \n",
            "7681  Kevin Costner, Dennis Quaid, Gene Hackman, Dav...  United States   \n",
            "7694  Mithun Chakraborty, Saif Ali Khan, Somy Ali, P...          India   \n",
            "\n",
            "            date_added  release_year  duration  \\\n",
            "7     November 1, 2019          1997       119   \n",
            "166      April 1, 2018          1993       101   \n",
            "210   December 1, 2019          1998        82   \n",
            "238   December 1, 2020          1996       108   \n",
            "273       June 1, 2017          1993       154   \n",
            "...                ...           ...       ...   \n",
            "7535  October 19, 2020          1999       106   \n",
            "7570   January 1, 2021          1993       118   \n",
            "7623   January 1, 2020          1999       106   \n",
            "7681   January 1, 2020          1994       191   \n",
            "7694      July 1, 2017          1994       148   \n",
            "\n",
            "                                            description           genre  \n",
            "7     After one of his high school students attacks ...          Dramas  \n",
            "166   At the center of this engrossing melodrama is ...          Dramas  \n",
            "210   After a run-in with Richard Grieco, dimwits Do...        Comedies  \n",
            "238   When a philandering club promoter sets out to ...        Comedies  \n",
            "273   Raised by a kindly thief, orphaned Jimmy goes ...          Dramas  \n",
            "...                                                 ...             ...  \n",
            "7535  Three intrepid teens roam the streets of Beiru...          Dramas  \n",
            "7570  In a backwater Iowa town, young Gilbert is tor...  Classic Movies  \n",
            "7623  Armed with an ingenious arsenal, two top-notch...          Action  \n",
            "7681  Legendary lawman Wyatt Earp is continually at ...          Action  \n",
            "7694  When his brother becomes involved in a deadly ...          Dramas  \n",
            "\n",
            "[194 rows x 11 columns]\n"
          ]
        }
      ]
    },
    {
      "cell_type": "code",
      "source": [
        "plt.hist(netflix_df[\"duration\"], bins = 183)\n",
        "plt.title('Distribution of Movie Durations in the 1990s')\n",
        "plt.xlabel('Duration (minutes)')\n",
        "plt.ylabel('Number of Movies')\n",
        "plt.show()\n",
        "plt.show()\n",
        "duration = netflix_df['duration'].mode()[0]\n",
        "print(duration)"
      ],
      "metadata": {
        "colab": {
          "base_uri": "https://localhost:8080/",
          "height": 491
        },
        "id": "JjqSamB9mgJe",
        "outputId": "a8d43998-3ef6-49ef-a8f5-99d5537d147d"
      },
      "execution_count": 9,
      "outputs": [
        {
          "output_type": "display_data",
          "data": {
            "text/plain": [
              "<Figure size 640x480 with 1 Axes>"
            ],
            "image/png": "[encoded data removed]"
          },
          "metadata": {}
        },
        {
          "output_type": "stream",
          "name": "stdout",
          "text": [
            "1\n"
          ]
        }
      ]
    },
    {
      "cell_type": "code",
      "source": [
        "Released_Year = netflix_df[\"release_year\"] == 1990\n",
        "\n",
        "netflix_subset = netflix_df[netflix_df[\"type\"] == \"Movie\"]\n",
        "subset = netflix_subset[(netflix_subset[\"release_year\"] >= 1990)]\n",
        "movies_1990s = subset[(subset[\"release_year\"] < 2000)]\n",
        "action_movies_1990s = movies_1990s[movies_1990s[\"genre\"] == \"Action\"]\n",
        "\n",
        "short_movie_count = 0\n",
        "\n",
        "for label, row in action_movies_1990s.iterrows() :\n",
        "    if row[\"duration\"] < 90 :\n",
        "        short_movie_count = short_movie_count + 1\n",
        "    else:\n",
        "        short_movie_count = short_movie_count\n",
        "\n",
        "print(short_movie_count)"
      ],
      "metadata": {
        "colab": {
          "base_uri": "https://localhost:8080/"
        },
        "id": "veUu1txmmhuU",
        "outputId": "efeb14e0-043e-46d6-d073-58514a9ba8e3"
      },
      "execution_count": 10,
      "outputs": [
        {
          "output_type": "stream",
          "name": "stdout",
          "text": [
            "8\n"
          ]
        }
      ]
    }
  ]
}